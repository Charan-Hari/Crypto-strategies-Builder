{
  "cells": [
    {
      "cell_type": "markdown",
      "metadata": {},
      "source": [
        "# CryptoStrategiesAI Demo Notebook\\nThis notebook tries to fetch live data (yfinance/ccxt). If not available, it falls back to synthetic generated data."
      ]
    },
    {
      "cell_type": "code",
      "metadata": {},
      "source": [
        "from crypto_strategies_ai.data.connectors import fetch_stocks_yfinance, fetch_crypto_ccxt, synthetic_series\\n",
        "from datetime import datetime\\n",
        "symbols = ['AAPL','MSFT']\\n",
        "start='2023-01-01'; end='2023-06-30'\\n",
        "try:\\n    data = fetch_stocks_yfinance(symbols, start, end)\\n    print('Fetched stocks:', list(data.keys()))\\nexcept Exception as e:\\n    print('Live fetch failed or missing dependency:', e)\\n    data = {s: synthetic_series(s, start, end) for s in symbols}\\n    print('Using synthetic for', list(data.keys()))\\n"
      ]
    },
    {
      "cell_type": "code",
      "metadata": {},
      "source": [
        "from crypto_strategies_ai.runner.pipeline import RunConfig, run_pipeline\\n",
        "cfg = RunConfig(universe=['AAPL','MSFT'], start=start, end=end, data_source='synthetic', weights={'technical':0.6,'quant':0.4,'sentiment':0.0})\\n",
        "prices, scores = run_pipeline(cfg)\\n",
        "print('Pipeline produced scores for:', list(scores.keys()))\\n"
      ]
    }
  ],
  "metadata": {
    "kernelspec": {
      "display_name": "Python 3",
      "language": "python",
      "name": "python3"
    }
  },
  "nbformat": 4,
  "nbformat_minor": 5
}